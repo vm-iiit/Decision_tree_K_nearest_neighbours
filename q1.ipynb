{
 "cells": [
  {
   "cell_type": "code",
   "execution_count": 21,
   "metadata": {},
   "outputs": [],
   "source": [
    "import matplotlib.pyplot as plt"
   ]
  },
  {
   "cell_type": "markdown",
   "metadata": {},
   "source": [
    "## Accuray dependence on K parameter"
   ]
  },
  {
   "cell_type": "code",
   "execution_count": 11,
   "metadata": {},
   "outputs": [
    {
     "data": {
      "image/png": "[encoded data removed]",
      "text/plain": [
       "<Figure size 432x288 with 1 Axes>"
      ]
     },
     "metadata": {
      "needs_background": "light"
     },
     "output_type": "display_data"
    },
    {
     "data": {
      "text/plain": [
       "<Figure size 1440x1224 with 0 Axes>"
      ]
     },
     "metadata": {},
     "output_type": "display_data"
    }
   ],
   "source": [
    "plt.plot([3, 4, 5, 6, 7, 8, 9, 10, 11], [95.88, 95.94, 95.58, 95.6, 95.6, 95.66, 95.42, 95.26, 95.12], 'r--', label=\"Euclidean distance\")\n",
    "plt.plot([3, 4, 5, 6, 7, 8, 9, 10, 11], [94.98, 94.88, 94.76, 94.8, 94.56, 94.6, 94.2, 94.22, 94.16], 'g*', label=\"Manhattan distance\")\n",
    "plt.plot([3, 4, 5, 6, 7, 8, 9, 10, 11], [95.88, 95.94, 95.58, 95.6, 95.6, 95.66, 95.42, 95.26, 95.12], 'b+', label=\"Sklearn's KNN\")\n",
    "plt.legend(loc='best')\n",
    "plt.axis([2, 13, 93, 97])\n",
    "plt.xlabel('K parameter value')\n",
    "plt.ylabel('Accuracy percentage')\n",
    "plt.figure(figsize=(20,17))\n",
    "plt.show()"
   ]
  },
  {
   "cell_type": "markdown",
   "metadata": {},
   "source": [
    "## F1 score vs K parameter"
   ]
  },
  {
   "cell_type": "code",
   "execution_count": 20,
   "metadata": {},
   "outputs": [
    {
     "data": {
      "image/png": "[encoded data removed]",
      "text/plain": [
       "<Figure size 432x288 with 1 Axes>"
      ]
     },
     "metadata": {
      "needs_background": "light"
     },
     "output_type": "display_data"
    },
    {
     "data": {
      "text/plain": [
       "<Figure size 864x72 with 0 Axes>"
      ]
     },
     "metadata": {},
     "output_type": "display_data"
    }
   ],
   "source": [
    "plt.plot([3, 4, 5, 6, 7, 8, 9, 10, 11], [0.957, 0.958, 0.954, 0.955, 0.955, 0.955, 0.953, 0.951, 0.950], 'r--', label=\"Euclidean distance\")\n",
    "plt.plot([3, 4, 5, 6, 7, 8, 9, 10, 11], [0.948, 0.947, 0.946, 0.947, 0.944, 0.945, 0.941, 0.941, 0.940], 'g*', label=\"Manhattan distance\")\n",
    "plt.plot([3, 4, 5, 6, 7, 8, 9, 10, 11], [0.957, 0.958, 0.954, 0.955, 0.955, 0.955, 0.953, 0.951, 0.950], 'b+', label=\"Sklearn's KNN\")\n",
    "plt.legend(loc='best')\n",
    "plt.axis([2, 13, 0.9, 1])\n",
    "plt.xlabel('K parameter value')\n",
    "plt.ylabel('F1 score')\n",
    "# plt.figure(figsize=(12,1))\n",
    "plt.show()"
   ]
  },
  {
   "cell_type": "markdown",
   "metadata": {},
   "source": [
    "## Confusion Matrix for K = 5"
   ]
  },
  {
   "cell_type": "markdown",
   "metadata": {},
   "source": [
    "### Euclidean distance"
   ]
  },
  {
   "cell_type": "markdown",
   "metadata": {},
   "source": [
    "$$\\begin{bmatrix} 536 & 0 & 0 & 0 & 0 & 1 & 3 & 0 & 0 & 0 \\\\ 0 & 572 & 0 & 0 & 1 & 0 & 0 & 2 & 1 & 1 \\\\ 2 & 1 & 455 & 3 & 1 & 0 & 2 & 12 & 1 & 0 \\\\ 2 & 3 & 5 & 458 & 1 & 7 & 0 & 4 & 2 & 3 \\\\ 1 & 7 & 0 & 0 & 431 & 0 & 3 & 2 & 0 & 14 \\\\ 3 & 4 & 0 & 5 & 1 & 404 & 7 & 2 & 1 & 5 \\\\ 2 & 1 & 0 & 0 & 1 & 3 & 493 & 0 & 0 & 0 \\\\ 0 & 5 & 2 & 1 & 0 & 1 &  0 & 523 & 0 & 11 \\\\ 3 & 5 &  2 & 15 &  1 & 9 &  2 &  5 & 443 & 6 \\\\2  & 2 &  1 &  5 & 11 &  3 &  0 & 8 &  1 & 464 \\\\ \\end{bmatrix}$$"
   ]
  },
  {
   "cell_type": "markdown",
   "metadata": {},
   "source": [
    "### Manhattan distance\n"
   ]
  },
  {
   "cell_type": "markdown",
   "metadata": {},
   "source": [
    "$$\\begin{bmatrix} 534 & 0 & 0 & 0 & 0 & 1 & 5 & 0 & 0 & 0 \\\\ 0 & 573 & 0 & 0 & 1 & 0 & 0 & 2 & 1 & 0 \\\\ 2 & 5 & 450 & 2 & 1 & 0 & 3 & 14 & 0 & 0 \\\\ 2 & 4 & 4 & 457 & 0 & 10 & 1 & 4 & 0 & 3 \\\\ 0 & 9 & 0 & 0 & 430 & 0 & 3 & 1 & 0 & 15 \\\\ 5 & 5 & 0 & 6 & 0 & 400 & 7 & 2 & 1 & 6 \\\\ 2 & 1 & 0 & 0 & 1 & 3 & 493 & 0 & 0 & 0 \\\\ 0 & 6 & 1 & 1 & 2 & 1 &  0 & 522 & 0 & 10 \\\\ 3 & 15 &  2 & 13 &  3 & 14 &  4 &  4 & 423 & 10 \\\\3  & 4 &  0 &  6 & 10 &  2 &  0 & 15 &  1 & 456 \\\\ \\end{bmatrix}$$"
   ]
  },
  {
   "cell_type": "code",
   "execution_count": 1,
   "metadata": {
    "colab": {},
    "colab_type": "code",
    "id": "QCnbjInVewTo"
   },
   "outputs": [],
   "source": [
    "import numpy as np\n",
    "from sklearn.model_selection import train_test_split\n",
    "from sklearn.metrics import accuracy_score\n",
    "from sklearn.neighbors import KNeighborsClassifier\n",
    "import math\n",
    "import time\n",
    "from sklearn.metrics import confusion_matrix\n",
    "from sklearn.metrics import f1_score"
   ]
  },
  {
   "cell_type": "code",
   "execution_count": 2,
   "metadata": {
    "colab": {},
    "colab_type": "code",
    "id": "kMApjoho6-UJ"
   },
   "outputs": [],
   "source": [
    "import numpy as np\n",
    "import math\n",
    "import time\n",
    "\n",
    "class KNNClassifier:\n",
    "\n",
    "    def __init__(self, k_value=5):\n",
    "        self.k_parameter = k_value\n",
    "        self.data_arr = None\n",
    "        self.train_res = None\n",
    "\n",
    "    def train(self, dar):\n",
    "        # self.data_arr = np.genfromtxt(train_dataframe_path, delimiter = ',')\n",
    "        self.data_arr = dar\n",
    "        self.train_res = self.data_arr[:,0]\n",
    "        self.data_arr = self.data_arr[:, 1:]\n",
    "\n",
    "    def predict(self, test_egs):\n",
    "        # test_egs = np.genfromtxt(test_dataframe_path, delimiter = ',')\n",
    "        prediction_list = []\n",
    "        for test_ind in range(test_egs.shape[0]):\n",
    "            lis = []\n",
    "            test_row = test_egs[test_ind,:]\n",
    "            hashmap = [0 for i in range(10)]\n",
    "            for train_ind in range(self.data_arr.shape[0]):\n",
    "                train_row = self.data_arr[train_ind,:]\n",
    "                diff = test_row - train_row\n",
    "                diff = diff*diff\n",
    "                dist = (diff.sum())\n",
    "                lis.append([dist, self.train_res[train_ind]])\n",
    "                lis = sorted(lis, key=lambda pair:pair[0])\n",
    "                lis = lis[0:self.k_parameter]\n",
    "            for pair in lis:\n",
    "                hashmap[int(pair[1])] += 1\n",
    "            maxval = hashmap[0]\n",
    "            ind = 0\n",
    "            for iter in range(1,10):\n",
    "                val = hashmap[iter]\n",
    "                if val > maxval:\n",
    "                    maxval = val\n",
    "                    ind = iter\n",
    "            prediction_list.append(ind)\n",
    "        return prediction_list"
   ]
  },
  {
   "cell_type": "code",
   "execution_count": 3,
   "metadata": {
    "colab": {
     "base_uri": "https://localhost:8080/",
     "height": 191
    },
    "colab_type": "code",
    "id": "LDkTm_8t7DDh",
    "outputId": "f3d0604c-0175-48bf-8ea0-5bac541e77e1"
   },
   "outputs": [
    {
     "name": "stdout",
     "output_type": "stream",
     "text": [
      "k = 3\n",
      "F1 score 0.9579501454018466\n",
      "F1 score 0.9579501454018466\n",
      "k = 4\n",
      "F1 score 0.9586163998048388\n",
      "F1 score 0.9586163998048388\n",
      "k = 5\n",
      "F1 score 0.9549842874584404\n",
      "[[536   0   0   0   0   1   3   0   0   0]\n",
      " [  0 572   0   0   1   0   0   2   1   1]\n",
      " [  2   1 455   3   1   0   2  12   1   0]\n",
      " [  2   3   5 458   1   7   0   4   2   3]\n",
      " [  1   7   0   0 431   0   3   2   0  14]\n",
      " [  3   4   0   5   1 404   7   2   1   5]\n",
      " [  2   1   0   0   1   3 493   0   0   0]\n",
      " [  0   5   2   1   0   1   0 523   0  11]\n",
      " [  3   5   2  15   1   9   2   5 443   6]\n",
      " [  2   2   1   5  11   3   0   8   1 464]]\n",
      "F1 score 0.9549842874584404\n",
      "k = 6\n",
      "F1 score 0.9553031063220955\n",
      "F1 score 0.9553031063220955\n",
      "k = 7\n",
      "F1 score 0.9553785635673787\n",
      "F1 score 0.9553785635673787\n",
      "k = 8\n",
      "F1 score 0.9559831007429856\n",
      "F1 score 0.9559831007429856\n",
      "k = 9\n",
      "F1 score 0.9535352795213108\n",
      "F1 score 0.9535352795213108\n",
      "k = 10\n",
      "F1 score 0.9518638098454062\n",
      "F1 score 0.9518638098454062\n",
      "k = 11\n",
      "F1 score 0.9503864230165272\n",
      "F1 score 0.9503864230165272\n"
     ]
    }
   ],
   "source": [
    "euclid_accuracy_self = []\n",
    "accuracy_sklearn = []\n",
    "train_arr = np.genfromtxt(\"./Datasets/q1/train.csv\", delimiter=',')\n",
    "np.random.shuffle(train_arr)\n",
    "valid_arr = train_arr[0:5000,:]\n",
    "valid_res = valid_arr[:,0]\n",
    "valid_arr = valid_arr[:,1:]\n",
    "train_arr = train_arr[5000:,:]\n",
    "s_arr = train_arr.copy()\n",
    "train_res = s_arr[:,0]\n",
    "s_arr = s_arr[:,1:]\n",
    "for k in range(3, 12):\n",
    "    print(\"k = \"+str(k))\n",
    "    cfr = KNNClassifier(k)\n",
    "    cfr.train(train_arr)\n",
    "    pl = cfr.predict(valid_arr)\n",
    "    euclid_accuracy_self.append(accuracy_score(valid_res, pl))\n",
    "    print(\"F1 score \"+str(f1_score(valid_res, pl, average='macro')))\n",
    "#     print(\"F1 score \"+str(f1_score(valid_res, pl, average='binary', pos_label=1)))\n",
    "#     print(\"F1 score \"+str(f1_score(valid_res, pl, average='binary', pos_label=2)))\n",
    "#     print(\"F1 score \"+str(f1_score(valid_res, pl, average='binary', pos_label=3)))\n",
    "#     print(\"F1 score \"+str(f1_score(valid_res, pl, average='binary', pos_label=4)))\n",
    "#     print(\"F1 score \"+str(f1_score(valid_res, pl, average='binary', pos_label=5)))\n",
    "#     print(\"F1 score \"+str(f1_score(valid_res, pl, average='binary', pos_label=6)))\n",
    "#     print(\"F1 score \"+str(f1_score(valid_res, pl, average='binary', pos_label=7)))\n",
    "#     print(\"F1 score \"+str(f1_score(valid_res, pl, average='binary', pos_label=8)))\n",
    "#     print(\"F1 score \"+str(f1_score(valid_res, pl, average='binary', pos_label=9)))\n",
    "    if k==5:\n",
    "        print(confusion_matrix(valid_res, pl))\n",
    "    sk_class = KNeighborsClassifier(k)\n",
    "    sk_class.fit(s_arr, train_res)\n",
    "    pl = sk_class.predict(valid_arr)\n",
    "    accuracy_sklearn.append(accuracy_score(valid_res, pl))\n",
    "    print(\"F1 score \"+str(f1_score(valid_res, pl, average='macro')))\n",
    "#     print(\"F1 score \"+str(f1_score(valid_res, pl, average='binary', pos_label=1)))\n",
    "#     print(\"F1 score \"+str(f1_score(valid_res, pl, average='binary', pos_label=2)))\n",
    "#     print(\"F1 score \"+str(f1_score(valid_res, pl, average='binary', pos_label=3)))\n",
    "#     print(\"F1 score \"+str(f1_score(valid_res, pl, average='binary', pos_label=4)))\n",
    "#     print(\"F1 score \"+str(f1_score(valid_res, pl, average='binary', pos_label=5)))\n",
    "#     print(\"F1 score \"+str(f1_score(valid_res, pl, average='binary', pos_label=6)))\n",
    "#     print(\"F1 score \"+str(f1_score(valid_res, pl, average='binary', pos_label=7)))\n",
    "#     print(\"F1 score \"+str(f1_score(valid_res, pl, average='binary', pos_label=8)))\n",
    "#     print(\"F1 score \"+str(f1_score(valid_res, pl, average='binary', pos_label=9)))"
   ]
  },
  {
   "cell_type": "code",
   "execution_count": 4,
   "metadata": {
    "colab": {},
    "colab_type": "code",
    "id": "Qf0K78BSHEwd"
   },
   "outputs": [],
   "source": [
    "class KNNClassifier_man:\n",
    "\n",
    "    def __init__(self, k_value=5):\n",
    "        self.k_parameter = k_value\n",
    "        self.data_arr = None\n",
    "        self.train_res = None\n",
    "\n",
    "    def train(self, dar):\n",
    "        # self.data_arr = np.genfromtxt(train_dataframe_path, delimiter = ',')\n",
    "        self.data_arr = dar\n",
    "        self.train_res = self.data_arr[:,0]\n",
    "        self.data_arr = self.data_arr[:, 1:]\n",
    "\n",
    "    def predict(self, test_egs):\n",
    "        # test_egs = np.genfromtxt(test_dataframe_path, delimiter = ',')\n",
    "        prediction_list = []\n",
    "        for test_ind in range(test_egs.shape[0]):\n",
    "            lis = []\n",
    "            test_row = test_egs[test_ind,:]\n",
    "            hashmap = [0 for i in range(10)]\n",
    "            for train_ind in range(self.data_arr.shape[0]):\n",
    "                train_row = self.data_arr[train_ind,:]\n",
    "                diff = test_row - train_row\n",
    "                diff = np.absolute(diff)\n",
    "                dist = (diff.sum())\n",
    "                lis.append([dist, self.train_res[train_ind]])\n",
    "                lis = sorted(lis, key=lambda pair:pair[0])\n",
    "                lis = lis[0:self.k_parameter]\n",
    "            for pair in lis:\n",
    "                hashmap[int(pair[1])] += 1\n",
    "            maxval = hashmap[0]\n",
    "            ind = 0\n",
    "            for iter in range(1,10):\n",
    "                val = hashmap[iter]\n",
    "                if val > maxval:\n",
    "                    maxval = val\n",
    "                    ind = iter\n",
    "            prediction_list.append(ind)\n",
    "        return prediction_list"
   ]
  },
  {
   "cell_type": "markdown",
   "metadata": {
    "colab_type": "text",
    "id": "VvrHrKNl58Kc"
   },
   "source": []
  },
  {
   "cell_type": "code",
   "execution_count": 8,
   "metadata": {
    "colab": {},
    "colab_type": "code",
    "id": "0Fu9wWR1G0Zn"
   },
   "outputs": [
    {
     "name": "stdout",
     "output_type": "stream",
     "text": [
      "k = 3\n",
      "trained\n",
      "predicted\n",
      "F1 score 0.9489633256057246\n",
      "k = 4\n",
      "trained\n",
      "predicted\n",
      "F1 score 0.9479986435731027\n",
      "k = 5\n",
      "trained\n",
      "predicted\n",
      "[[534   0   0   0   0   1   5   0   0   0]\n",
      " [  0 573   0   0   1   0   0   2   1   0]\n",
      " [  2   5 450   2   1   0   3  14   0   0]\n",
      " [  2   4   4 457   0  10   1   4   0   3]\n",
      " [  0   9   0   0 430   0   3   1   0  15]\n",
      " [  5   5   0   6   0 400   7   2   1   6]\n",
      " [  2   1   0   0   1   3 493   0   0   0]\n",
      " [  0   6   1   1   2   1   0 522   0  10]\n",
      " [  3  15   2  13   3  14   4   4 423  10]\n",
      " [  3   4   0   6  10   2   0  15   1 456]]\n",
      "F1 score 0.9467686320643255\n",
      "k = 6\n",
      "trained\n",
      "predicted\n",
      "F1 score 0.9474649961547531\n",
      "k = 7\n",
      "trained\n",
      "predicted\n",
      "F1 score 0.9448616772774201\n",
      "k = 8\n",
      "trained\n",
      "predicted\n",
      "F1 score 0.9453565948581863\n",
      "k = 9\n",
      "trained\n",
      "predicted\n",
      "F1 score 0.941269420583364\n",
      "k = 10\n",
      "trained\n",
      "predicted\n",
      "F1 score 0.9415563707442705\n",
      "k = 11\n",
      "trained\n",
      "predicted\n",
      "F1 score 0.9409626231098658\n"
     ]
    }
   ],
   "source": [
    "manhattan_accuracy_self = []\n",
    "# accuracy_sklearn = []\n",
    "# train_arr = np.genfromtxt(\"/content/gdrive/My Drive/Datasets/q1/train.csv\", delimiter=',')\n",
    "# np.random.shuffle(train_arr)\n",
    "# valid_arr = train_arr[0:5000,:]\n",
    "# valid_res = valid_arr[:,0]\n",
    "# valid_arr = valid_arr[:,1:]\n",
    "# train_arr = train_arr[5000:,:]\n",
    "# s_arr = train_arr.copy()\n",
    "# train_res = s_arr[:,0]\n",
    "s_arr = s_arr[:,1:]\n",
    "for k in range(3, 12):\n",
    "    print(\"k = \"+str(k))\n",
    "    cfr = KNNClassifier_man(k)\n",
    "    cfr.train(train_arr, )\n",
    "    print(\"trained\")\n",
    "    pl = cfr.predict(valid_arr)\n",
    "    print(\"predicted\")\n",
    "#     print(valid_res.shape)\n",
    "#     print(pl.shape)\n",
    "    manhattan_accuracy_self.append(accuracy_score(valid_res, pl))\n",
    "    if k==5:\n",
    "        print(confusion_matrix(valid_res, pl))\n",
    "    print(\"F1 score \"+str(f1_score(valid_res, pl, average='macro')))\n",
    "#     print(\"F1 score \"+str(f1_score(valid_res, pl, average='binary', pos_label=1)))\n",
    "#     print(\"F1 score \"+str(f1_score(valid_res, pl, average='binary', pos_label=2)))\n",
    "#     print(\"F1 score \"+str(f1_score(valid_res, pl, average='binary', pos_label=3)))\n",
    "#     print(\"F1 score \"+str(f1_score(valid_res, pl, average='binary', pos_label=4)))\n",
    "#     print(\"F1 score \"+str(f1_score(valid_res, pl, average='binary', pos_label=5)))\n",
    "#     print(\"F1 score \"+str(f1_score(valid_res, pl, average='binary', pos_label=6)))\n",
    "#     print(\"F1 score \"+str(f1_score(valid_res, pl, average='binary', pos_label=7)))\n",
    "#     print(\"F1 score \"+str(f1_score(valid_res, pl, average='binary', pos_label=8)))\n",
    "#     print(\"F1 score \"+str(f1_score(valid_res, pl, average='binary', pos_label=9)))\n",
    "    # sk_class = KNeighborsClassifier(k)\n",
    "    # sk_class.fit(s_arr, train_res)\n",
    "    # pl = sk_class.predict()\n",
    "    # accuracy_sklearn.append(accuracy_score(valid_res, pl))"
   ]
  },
  {
   "cell_type": "code",
   "execution_count": 9,
   "metadata": {
    "colab": {},
    "colab_type": "code",
    "id": "WsbHDV55Hcr6"
   },
   "outputs": [
    {
     "name": "stdout",
     "output_type": "stream",
     "text": [
      "[0.9588, 0.9594, 0.9558, 0.956, 0.956, 0.9566, 0.9542, 0.9526, 0.9512]\n",
      "[0.9588, 0.9594, 0.9558, 0.956, 0.956, 0.9566, 0.9542, 0.9526, 0.9512]\n",
      "[0.9498, 0.9488, 0.9476, 0.948, 0.9456, 0.946, 0.942, 0.9422, 0.9416]\n"
     ]
    }
   ],
   "source": [
    "print(euclid_accuracy_self)\n",
    "print(accuracy_sklearn)\n",
    "print(manhattan_accuracy_self)"
   ]
  }
 ],
 "metadata": {
  "accelerator": "GPU",
  "colab": {
   "collapsed_sections": [],
   "name": "q1_doc.ipynb",
   "provenance": []
  },
  "kernelspec": {
   "display_name": "Python 3",
   "language": "python",
   "name": "python3"
  },
  "language_info": {
   "codemirror_mode": {
    "name": "ipython",
    "version": 3
   },
   "file_extension": ".py",
   "mimetype": "text/x-python",
   "name": "python",
   "nbconvert_exporter": "python",
   "pygments_lexer": "ipython3",
   "version": "3.7.5"
  }
 },
 "nbformat": 4,
 "nbformat_minor": 1
}
